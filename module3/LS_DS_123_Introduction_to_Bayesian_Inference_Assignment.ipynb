{
  "nbformat": 4,
  "nbformat_minor": 0,
  "metadata": {
    "colab": {
      "name": "LS_DS_123_Introduction_to_Bayesian_Inference_Assignment.ipynb",
      "provenance": [],
      "collapsed_sections": [],
      "include_colab_link": true
    },
    "kernelspec": {
      "name": "python3",
      "display_name": "Python 3"
    }
  },
  "cells": [
    {
      "cell_type": "markdown",
      "metadata": {
        "id": "view-in-github",
        "colab_type": "text"
      },
      "source": [
        "<a href=\"https://colab.research.google.com/github/maltaro/DS-Unit-1-Sprint-2-Statistics/blob/master/module3/LS_DS_123_Introduction_to_Bayesian_Inference_Assignment.ipynb\" target=\"_parent\"><img src=\"https://colab.research.google.com/assets/colab-badge.svg\" alt=\"Open In Colab\"/></a>"
      ]
    },
    {
      "cell_type": "markdown",
      "metadata": {
        "id": "H7OLbevlbd_Z",
        "colab_type": "text"
      },
      "source": [
        "# Lambda School Data Science Module 123\n",
        "\n",
        "## Introduction to Bayesian Inference\n",
        "\n",
        "\n"
      ]
    },
    {
      "cell_type": "markdown",
      "metadata": {
        "id": "P-DzzRk5bf0z",
        "colab_type": "text"
      },
      "source": [
        "## Assignment - Code it up!\n",
        "\n",
        "We used pure math to apply Bayes Theorem to drug tests. Now write Python code to reproduce the results! This is purposefully open ended - you'll have to think about how you should represent probabilities and events. You can and should look things up.\n",
        "\n",
        "Specific goals/targets:\n",
        "\n",
        "### 1) Write a function \n",
        "\n",
        "`def prob_drunk_given_positive(prob_drunk_prior, false_positive_rate):` \n",
        "\n",
        "You should only truly need these two values in order to apply Bayes Theorem. In this example, imagine that individuals are taking a breathalyzer test with an 8% false positive rate, a 100% true positive rate, and that our prior belief about drunk driving in the population is 1/1000. \n",
        " - What is the probability that a person is drunk after one positive breathalyzer test?\n",
        " - What is the probability that a person is drunk after two positive breathalyzer tests?\n",
        " - How many positive breathalyzer tests are needed in order to have a probability that's greater than 95% that a person is drunk beyond the legal limit?\n",
        "\n",
        "### 2) Explore `scipy.stats.bayes_mvs`  \n",
        "Read its documentation, and experiment with it on data you've tested in other ways earlier this week.\n",
        " - Create a visualization comparing the results of a Bayesian approach to a traditional/frequentist approach. (with a large sample size they should look close to identical, however, take this opportunity to practice visualizing condfidence intervals in general. The following are some potential ways that you could visualize confidence intervals on your graph:\n",
        "  - [Matplotlib Error Bars](https://matplotlib.org/3.1.1/api/_as_gen/matplotlib.pyplot.errorbar.html)\n",
        "  - [Seaborn barplot with error bars](https://seaborn.pydata.org/generated/seaborn.barplot.html)\n",
        "  - [Vertical ines to show bounds of confidence interval](https://www.simplypsychology.org/confidence-interval.jpg)\n",
        "  - [Confidence Intervals on Box Plots](https://matplotlib.org/3.1.1/api/_as_gen/matplotlib.axes.Axes.boxplot.html)\n",
        "\n",
        "### 3) In your own words, summarize the difference between Bayesian and Frequentist statistics\n",
        "\n",
        "If you're unsure where to start, check out [this blog post of Bayes theorem with Python](https://dataconomy.com/2015/02/introduction-to-bayes-theorem-with-python/).\n",
        "\n"
      ]
    },
    {
      "cell_type": "code",
      "metadata": {
        "id": "xpVhZyUnbf7o",
        "colab_type": "code",
        "colab": {}
      },
      "source": [
        "# TODO - code!\n",
        "\n",
        "def prob_drunk_given_positive(prob_drunk_prior, false_positive_rate):\n",
        "  return (prob_drunk_prior/(prob_drunk_prior + (false_positive_rate*(1-prob_drunk_prior))))"
      ],
      "execution_count": 0,
      "outputs": []
    },
    {
      "cell_type": "code",
      "metadata": {
        "id": "yVKkcDa19R-c",
        "colab_type": "code",
        "colab": {
          "base_uri": "https://localhost:8080/",
          "height": 36
        },
        "outputId": "29e3f641-0f93-41b5-ab4f-5af379609597"
      },
      "source": [
        "prob_drunk_given_positive(0.001, 0.08)"
      ],
      "execution_count": 4,
      "outputs": [
        {
          "output_type": "execute_result",
          "data": {
            "text/plain": [
              "0.012357884330202669"
            ]
          },
          "metadata": {
            "tags": []
          },
          "execution_count": 4
        }
      ]
    },
    {
      "cell_type": "code",
      "metadata": {
        "id": "n3a5wvnd9w7q",
        "colab_type": "code",
        "colab": {}
      },
      "source": [
        "# regarding the second and third task of question 1. it makes sense to think \n",
        "# about the counterexample: what is the likelihood of somebody being \n",
        "# tested positive and not being drunk:\n"
      ],
      "execution_count": 0,
      "outputs": []
    },
    {
      "cell_type": "code",
      "metadata": {
        "id": "WJkGZZN9BkHo",
        "colab_type": "code",
        "colab": {}
      },
      "source": [
        "def prob_not_drunk_given_positive(prob_drunk_prior, false_positive_rate):\n",
        "  return ((false_positive_rate*(1-prob_drunk_prior))/\n",
        "         (prob_drunk_prior +(false_positive_rate*(1-prob_drunk_prior))))"
      ],
      "execution_count": 0,
      "outputs": []
    },
    {
      "cell_type": "code",
      "metadata": {
        "id": "kJR7Du5KCUfA",
        "colab_type": "code",
        "colab": {
          "base_uri": "https://localhost:8080/",
          "height": 36
        },
        "outputId": "3fbb47a0-a401-4cf9-ef8b-dce3f0515f14"
      },
      "source": [
        "prob_not_drunk_given_positive(0.001, 0.08)"
      ],
      "execution_count": 6,
      "outputs": [
        {
          "output_type": "execute_result",
          "data": {
            "text/plain": [
              "0.9876421156697973"
            ]
          },
          "metadata": {
            "tags": []
          },
          "execution_count": 6
        }
      ]
    },
    {
      "cell_type": "code",
      "metadata": {
        "id": "BULr9TVuC63X",
        "colab_type": "code",
        "colab": {
          "base_uri": "https://localhost:8080/",
          "height": 36
        },
        "outputId": "a4833964-fb0b-4ec4-ffba-503d38e2706e"
      },
      "source": [
        "prob_drunk_given_positive(0.001, 0.08) +  prob_not_drunk_given_positive(0.001, 0.08)"
      ],
      "execution_count": 7,
      "outputs": [
        {
          "output_type": "execute_result",
          "data": {
            "text/plain": [
              "1.0"
            ]
          },
          "metadata": {
            "tags": []
          },
          "execution_count": 7
        }
      ]
    },
    {
      "cell_type": "code",
      "metadata": {
        "id": "bqdK6Yb2Cewj",
        "colab_type": "code",
        "colab": {}
      },
      "source": [
        "# as we can see prob_drunk_given_positive + prob_not_drunk_given_positive = 1\n",
        "# this is of course the expected result as either the one or the other event \n",
        "# can take place and there is no third possible event. \n"
      ],
      "execution_count": 0,
      "outputs": []
    },
    {
      "cell_type": "code",
      "metadata": {
        "id": "lKjm3OT3DF0R",
        "colab_type": "code",
        "colab": {}
      },
      "source": [
        "# now we need to consider what the likelihood is that somebody is tested \n",
        "# positive x times and not drunk. We will use a modified version of the function \n",
        "#  above:\n"
      ],
      "execution_count": 0,
      "outputs": []
    },
    {
      "cell_type": "code",
      "metadata": {
        "id": "p1Ynf1izDp12",
        "colab_type": "code",
        "colab": {}
      },
      "source": [
        "def prob_not_drunk_given_positive_x_times(prob_drunk_prior, false_positive_rate,x):\n",
        "  return ((false_positive_rate*(1-prob_drunk_prior))/\n",
        "         (prob_drunk_prior +(false_positive_rate*(1-prob_drunk_prior))))**x"
      ],
      "execution_count": 0,
      "outputs": []
    },
    {
      "cell_type": "code",
      "metadata": {
        "id": "MdrcxbUvD7PC",
        "colab_type": "code",
        "colab": {
          "base_uri": "https://localhost:8080/",
          "height": 36
        },
        "outputId": "7d5bf37e-069f-41cd-bb67-ab8b52a30d88"
      },
      "source": [
        "1 - prob_not_drunk_given_positive_x_times(0.001, 0.08, 2)"
      ],
      "execution_count": 10,
      "outputs": [
        {
          "output_type": "execute_result",
          "data": {
            "text/plain": [
              "0.02456305135528669"
            ]
          },
          "metadata": {
            "tags": []
          },
          "execution_count": 10
        }
      ]
    },
    {
      "cell_type": "code",
      "metadata": {
        "id": "lKqmcDgYEYws",
        "colab_type": "code",
        "colab": {}
      },
      "source": [
        "# here we chained the probabiity of being tested positive and not being drunk\n",
        "# twice and subtracted the result from 1. The result is the probability that \n",
        "#  somebody got testet positive twice and actually is drunk. "
      ],
      "execution_count": 0,
      "outputs": []
    },
    {
      "cell_type": "code",
      "metadata": {
        "id": "DiYIpxeUFC9A",
        "colab_type": "code",
        "colab": {}
      },
      "source": [
        "# to solve the last task of question one we will modify the function from above \n",
        "#  once again a bit. \n"
      ],
      "execution_count": 0,
      "outputs": []
    },
    {
      "cell_type": "code",
      "metadata": {
        "id": "uEarJaJBFO8F",
        "colab_type": "code",
        "colab": {}
      },
      "source": [
        "def prob_drunk_given_positive_x_times(prob_drunk_prior, false_positive_rate,x):\n",
        "  print(x)\n",
        "  print(1-((false_positive_rate*(1-prob_drunk_prior))/\n",
        "         (prob_drunk_prior +(false_positive_rate*(1-prob_drunk_prior))))**x)"
      ],
      "execution_count": 0,
      "outputs": []
    },
    {
      "cell_type": "code",
      "metadata": {
        "id": "yzfdKvIXF0ee",
        "colab_type": "code",
        "colab": {
          "base_uri": "https://localhost:8080/",
          "height": 203
        },
        "outputId": "a10f6e32-64de-4146-e607-3a69b6c80f08"
      },
      "source": [
        "for x in range(240,245):\n",
        "  prob_drunk_given_positive_x_times(0.001, 0.08,x)"
      ],
      "execution_count": 18,
      "outputs": [
        {
          "output_type": "stream",
          "text": [
            "240\n",
            "0.9494286824486916\n",
            "241\n",
            "0.9500536369414166\n",
            "242\n",
            "0.9506708683188089\n",
            "243\n",
            "0.9512804720222344\n",
            "244\n",
            "0.9518825423136057\n"
          ],
          "name": "stdout"
        }
      ]
    },
    {
      "cell_type": "code",
      "metadata": {
        "id": "AqMdX5fJHeEC",
        "colab_type": "code",
        "colab": {}
      },
      "source": [
        "# somebody needs to be tested positive 241 times to be 95%\n",
        "# sure that he actually is drunk. That is honestly a bit of a suprising result."
      ],
      "execution_count": 0,
      "outputs": []
    },
    {
      "cell_type": "code",
      "metadata": {
        "id": "ZgQs5F5YNBK3",
        "colab_type": "code",
        "colab": {}
      },
      "source": [
        "import pandas as pd\n",
        "import scipy.stats\n",
        "import seaborn as sns"
      ],
      "execution_count": 0,
      "outputs": []
    },
    {
      "cell_type": "code",
      "metadata": {
        "id": "eLRcdQIzMANG",
        "colab_type": "code",
        "colab": {}
      },
      "source": [
        "tips = sns.load_dataset(\"tips\")"
      ],
      "execution_count": 0,
      "outputs": []
    },
    {
      "cell_type": "code",
      "metadata": {
        "id": "qYJVwMn-QNJ2",
        "colab_type": "code",
        "colab": {
          "base_uri": "https://localhost:8080/",
          "height": 112
        },
        "outputId": "6306e14d-e833-49fc-eaea-ea8df171de5c"
      },
      "source": [
        "tips.head(2)"
      ],
      "execution_count": 53,
      "outputs": [
        {
          "output_type": "execute_result",
          "data": {
            "text/html": [
              "<div>\n",
              "<style scoped>\n",
              "    .dataframe tbody tr th:only-of-type {\n",
              "        vertical-align: middle;\n",
              "    }\n",
              "\n",
              "    .dataframe tbody tr th {\n",
              "        vertical-align: top;\n",
              "    }\n",
              "\n",
              "    .dataframe thead th {\n",
              "        text-align: right;\n",
              "    }\n",
              "</style>\n",
              "<table border=\"1\" class=\"dataframe\">\n",
              "  <thead>\n",
              "    <tr style=\"text-align: right;\">\n",
              "      <th></th>\n",
              "      <th>total_bill</th>\n",
              "      <th>tip</th>\n",
              "      <th>sex</th>\n",
              "      <th>smoker</th>\n",
              "      <th>day</th>\n",
              "      <th>time</th>\n",
              "      <th>size</th>\n",
              "    </tr>\n",
              "  </thead>\n",
              "  <tbody>\n",
              "    <tr>\n",
              "      <th>0</th>\n",
              "      <td>16.99</td>\n",
              "      <td>1.01</td>\n",
              "      <td>Female</td>\n",
              "      <td>No</td>\n",
              "      <td>Sun</td>\n",
              "      <td>Dinner</td>\n",
              "      <td>2</td>\n",
              "    </tr>\n",
              "    <tr>\n",
              "      <th>1</th>\n",
              "      <td>10.34</td>\n",
              "      <td>1.66</td>\n",
              "      <td>Male</td>\n",
              "      <td>No</td>\n",
              "      <td>Sun</td>\n",
              "      <td>Dinner</td>\n",
              "      <td>3</td>\n",
              "    </tr>\n",
              "  </tbody>\n",
              "</table>\n",
              "</div>"
            ],
            "text/plain": [
              "   total_bill   tip     sex smoker  day    time  size\n",
              "0       16.99  1.01  Female     No  Sun  Dinner     2\n",
              "1       10.34  1.66    Male     No  Sun  Dinner     3"
            ]
          },
          "metadata": {
            "tags": []
          },
          "execution_count": 53
        }
      ]
    },
    {
      "cell_type": "code",
      "metadata": {
        "id": "T5gsTqerT1yr",
        "colab_type": "code",
        "colab": {}
      },
      "source": [
        "## calculation of the confidence interval using the Bayesian approach"
      ],
      "execution_count": 0,
      "outputs": []
    },
    {
      "cell_type": "code",
      "metadata": {
        "id": "dEwiPG1xQWK-",
        "colab_type": "code",
        "colab": {}
      },
      "source": [
        " mean,var,std = scipy.stats.bayes_mvs(tips[\"tip\"], alpha=0.9)"
      ],
      "execution_count": 0,
      "outputs": []
    },
    {
      "cell_type": "code",
      "metadata": {
        "id": "cMfdRcLvOVbS",
        "colab_type": "code",
        "colab": {}
      },
      "source": [
        "mean = list(mean)"
      ],
      "execution_count": 0,
      "outputs": []
    },
    {
      "cell_type": "code",
      "metadata": {
        "id": "-wEDtcKbTcKR",
        "colab_type": "code",
        "colab": {
          "base_uri": "https://localhost:8080/",
          "height": 36
        },
        "outputId": "d80569f1-3c1b-459f-f883-23744910c592"
      },
      "source": [
        "mean"
      ],
      "execution_count": 56,
      "outputs": [
        {
          "output_type": "execute_result",
          "data": {
            "text/plain": [
              "[2.99827868852459, (2.8520226737233187, 3.144534703325861)]"
            ]
          },
          "metadata": {
            "tags": []
          },
          "execution_count": 56
        }
      ]
    },
    {
      "cell_type": "code",
      "metadata": {
        "id": "NO2ftAOjTWMJ",
        "colab_type": "code",
        "colab": {
          "base_uri": "https://localhost:8080/",
          "height": 269
        },
        "outputId": "93ea1692-939a-4645-c67d-a912e0600c0b"
      },
      "source": [
        "import matplotlib.pyplot as plt\n",
        "\n",
        "plt.axvline(x=mean[1][0], color='red')\n",
        "plt.axvline(x=mean[1][1], color='red')\n",
        "plt.axvline(x=mean[0], color='k');\n",
        "\n"
      ],
      "execution_count": 57,
      "outputs": [
        {
          "output_type": "display_data",
          "data": {
            "image/png": "[encoded data removed]",
            "text/plain": [
              "<Figure size 432x288 with 1 Axes>"
            ]
          },
          "metadata": {
            "tags": []
          }
        }
      ]
    },
    {
      "cell_type": "code",
      "metadata": {
        "id": "HrDpYde0Tt8a",
        "colab_type": "code",
        "colab": {}
      },
      "source": [
        "# calculation of the confidence interval using the frequentist approach \n"
      ],
      "execution_count": 0,
      "outputs": []
    },
    {
      "cell_type": "code",
      "metadata": {
        "id": "qe5bwSXcUIAw",
        "colab_type": "code",
        "colab": {}
      },
      "source": [
        "import numpy as np\n",
        "from scipy import stats"
      ],
      "execution_count": 0,
      "outputs": []
    },
    {
      "cell_type": "code",
      "metadata": {
        "id": "z6QAZoQQUoL2",
        "colab_type": "code",
        "colab": {}
      },
      "source": [
        "standard_deviation = np.std(tips[\"tip\"], ddof=1)"
      ],
      "execution_count": 0,
      "outputs": []
    },
    {
      "cell_type": "code",
      "metadata": {
        "id": "7rRFf6GRU0F_",
        "colab_type": "code",
        "colab": {}
      },
      "source": [
        "standard_error = standard_deviation / (len(tips[\"tip\"])**0.5)"
      ],
      "execution_count": 0,
      "outputs": []
    },
    {
      "cell_type": "code",
      "metadata": {
        "id": "XE8fKFjfXgW1",
        "colab_type": "code",
        "colab": {}
      },
      "source": [
        "t_statistic = stats.t.ppf(0.95, len(tips[\"tip\"]) - 1)\n",
        "# since alpha is 0.9 we calculate (0.9 +1)/2 = 0.95"
      ],
      "execution_count": 0,
      "outputs": []
    },
    {
      "cell_type": "code",
      "metadata": {
        "id": "KTh0CWqAYNK_",
        "colab_type": "code",
        "colab": {}
      },
      "source": [
        "margin_of_error = t_statistic * standard_error"
      ],
      "execution_count": 0,
      "outputs": []
    },
    {
      "cell_type": "code",
      "metadata": {
        "id": "Gp6_2iJyYWFx",
        "colab_type": "code",
        "colab": {}
      },
      "source": [
        "tips_mean = tips[\"tip\"].mean()"
      ],
      "execution_count": 0,
      "outputs": []
    },
    {
      "cell_type": "code",
      "metadata": {
        "id": "rarbBnE1Ycpf",
        "colab_type": "code",
        "colab": {}
      },
      "source": [
        "confidence_interval = [tips_mean - margin_of_error, tips_mean, tips_mean+margin_of_error]"
      ],
      "execution_count": 0,
      "outputs": []
    },
    {
      "cell_type": "code",
      "metadata": {
        "id": "W5oBytv5Y5km",
        "colab_type": "code",
        "colab": {}
      },
      "source": [
        "CI = confidence_interval"
      ],
      "execution_count": 0,
      "outputs": []
    },
    {
      "cell_type": "code",
      "metadata": {
        "id": "WnZ56aGFZg4e",
        "colab_type": "code",
        "colab": {
          "base_uri": "https://localhost:8080/",
          "height": 269
        },
        "outputId": "15e21e5d-63f5-4861-ddea-1a5452f36472"
      },
      "source": [
        "plt.axvline(x=CI[0], color='red')\n",
        "plt.axvline(x=CI[2], color='red')\n",
        "plt.axvline(x=CI[1], color='k');"
      ],
      "execution_count": 70,
      "outputs": [
        {
          "output_type": "display_data",
          "data": {
            "image/png": "[encoded data removed]",
            "text/plain": [
              "<Figure size 432x288 with 1 Axes>"
            ]
          },
          "metadata": {
            "tags": []
          }
        }
      ]
    },
    {
      "cell_type": "code",
      "metadata": {
        "id": "CivieYizZvAS",
        "colab_type": "code",
        "colab": {}
      },
      "source": [
        "# Both methods yield very similar results. Apparently the dataset \n",
        "# is big enough to even out the differences between both approaches. "
      ],
      "execution_count": 0,
      "outputs": []
    },
    {
      "cell_type": "markdown",
      "metadata": {
        "id": "XXyueFmkfzK2",
        "colab_type": "text"
      },
      "source": [
        "I read the provided blogpost on Bayes Theorem but I did not understand it completely since parts of the notation were obscure. In general I would saz that Bayesian statistics always examines a given dataset under a certain condition while frequentist statistic is only interested in the dataset itself. \n"
      ]
    },
    {
      "cell_type": "markdown",
      "metadata": {
        "id": "uWgWjp3PQ3Sq",
        "colab_type": "text"
      },
      "source": [
        "## Resources"
      ]
    },
    {
      "cell_type": "markdown",
      "metadata": {
        "id": "QRgHqmYIQ9qn",
        "colab_type": "text"
      },
      "source": [
        "- [Worked example of Bayes rule calculation](https://en.wikipedia.org/wiki/Bayes'_theorem#Examples) (helpful as it fully breaks out the denominator)\n",
        "- [Source code for mvsdist in scipy](https://github.com/scipy/scipy/blob/90534919e139d2a81c24bf08341734ff41a3db12/scipy/stats/morestats.py#L139)"
      ]
    },
    {
      "cell_type": "markdown",
      "metadata": {
        "id": "GP7Jv1XvwtkX",
        "colab_type": "text"
      },
      "source": [
        "## Stretch Goals:\n",
        "\n",
        "- Go back and study the content from Modules 1 & 2 to make sure that you're really comfortable with them.\n",
        "- Apply a Bayesian technique to a problem you previously worked (in an assignment or project work) on from a frequentist (standard) perspective\n",
        "- Check out [PyMC3](https://docs.pymc.io/) (note this goes beyond hypothesis tests into modeling) - read the guides and work through some examples\n",
        "- Take PyMC3 further - see if you can build something with it!"
      ]
    },
    {
      "cell_type": "code",
      "metadata": {
        "id": "iDi0eFr1x-v_",
        "colab_type": "code",
        "colab": {}
      },
      "source": [
        ""
      ],
      "execution_count": 0,
      "outputs": []
    }
  ]
}